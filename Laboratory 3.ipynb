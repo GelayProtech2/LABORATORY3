{
 "cells": [
  {
   "cell_type": "markdown",
   "metadata": {},
   "source": [
    "# Linear Algebra for CpE"
   ]
  },
  {
   "cell_type": "markdown",
   "metadata": {},
   "source": [
    "# Laboratory 3 : Linear Combination and Vector Spaces\n",
    "\n",
    "Now that you have a fundamental knowledge about linear combination, we'll try to visualize it using scientific programming.\n",
    "\n"
   ]
  },
  {
   "cell_type": "markdown",
   "metadata": {},
   "source": [
    "# Objectives\n",
    "\n",
    "At the end of this activity you will be able to:\n",
    "\n",
    "1. Be familiar with representing linear combinations in the 2-dimensional plane.\n",
    "2. Visualize spans using vector fields in Python.\n",
    "3. Perform vector fields operations using scientific programming."
   ]
  },
  {
   "cell_type": "markdown",
   "metadata": {},
   "source": [
    "# Discussion"
   ]
  },
  {
   "cell_type": "code",
   "execution_count": 1,
   "metadata": {},
   "outputs": [],
   "source": [
    "import numpy as np\n",
    "import matplotlib.pyplot as plt\n",
    "%matplotlib inline"
   ]
  },
  {
   "cell_type": "markdown",
   "metadata": {},
   "source": [
    "# Linear Combination¶\n",
    "It is said that a linear combination is the combination of linear scaling and addition of a vector its bases/components\n",
    "\n",
    "We will try to visualize the vectors and their linear combinations by plotting a sample of real number values for the scalars for the vectors. Let's first try the vectors below:\n",
    "\n",
    "$$X = \\begin{bmatrix} 2\\\\5 \\\\\\end{bmatrix} , Y = \\begin{bmatrix} 7\\\\9 \\\\\\end{bmatrix} $$"
   ]
  },
  {
   "cell_type": "code",
   "execution_count": 4,
   "metadata": {},
   "outputs": [],
   "source": [
    "vectX =  np.array([2,5])\n",
    "vectY =  np.array([7,9])"
   ]
  },
  {
   "cell_type": "markdown",
   "metadata": {},
   "source": [
    "# Span of single vectors\n",
    "As discussed in the lecture, the span of individual vectors can be represented by a line span. Let's take vector $X$ as an example.\n",
    "\n",
    "$$X = c\\cdot \\begin{bmatrix} 2\\\\5 \\\\\\end{bmatrix} $$"
   ]
  },
  {
   "cell_type": "code",
   "execution_count": 5,
   "metadata": {},
   "outputs": [
    {
     "data": {
      "image/png": "[encoded data removed]",
      "text/plain": [
       "<Figure size 432x288 with 1 Axes>"
      ]
     },
     "metadata": {
      "needs_background": "light"
     },
     "output_type": "display_data"
    }
   ],
   "source": [
    "c = np.arange(-10,10,0.25)\n",
    "\n",
    "plt.scatter(c*vectX[0],c*vectX[1])\n",
    "\n",
    "\n",
    "plt.xlim(-10,10)\n",
    "plt.ylim(-10,10)\n",
    "plt.axhline(y=0, color='k')\n",
    "plt.axvline(x=0, color='k')\n",
    "plt.grid()\n",
    "plt.show()"
   ]
  },
  {
   "cell_type": "markdown",
   "metadata": {},
   "source": [
    "# Span of a linear combination of vectors\n",
    "So what if we are to plot the span of a linear combination of vectors? We can visualize as a plane on the 2-dimensional coordinate system. Let's take the span of the linear combination below:\n",
    "\n",
    "$$S = \\begin{Bmatrix} c_1 \\cdot\\begin{bmatrix} 1\\\\0 \\\\\\end{bmatrix}, \n",
    "c_2 \\cdot \\begin{bmatrix} 1\\\\-1 \\\\\\end{bmatrix}\\end{Bmatrix} $$"
   ]
  },
  {
   "cell_type": "code",
   "execution_count": 6,
   "metadata": {},
   "outputs": [
    {
     "data": {
      "image/png": "[encoded data removed]",
      "text/plain": [
       "<Figure size 432x288 with 1 Axes>"
      ]
     },
     "metadata": {
      "needs_background": "light"
     },
     "output_type": "display_data"
    }
   ],
   "source": [
    "vectA = np.array([1,0])\n",
    "vectB = np.array([1,-1])\n",
    "R = np.arange(-10,10,1)\n",
    "c1, c2 = np.meshgrid(R,R)\n",
    "vectR = vectA + vectB\n",
    "spanRx = c1*vectA[0] + c2*vectB[0]\n",
    "spanRy = c1*vectA[1] + c2*vectB[1]\n",
    "# plt.scatter(R*vectA[0],R*vectA[1])\n",
    "plt.scatter(spanRx,spanRy, s=5, alpha=0.75)\n",
    "\n",
    "plt.axhline(y=0, color='k')\n",
    "plt.axvline(x=0, color='k')\n",
    "plt.grid()\n",
    "plt.show()"
   ]
  },
  {
   "cell_type": "markdown",
   "metadata": {},
   "source": [
    "Take note that if vectors are seen to be as a 2-dimensional span we can say it has a Rank of 2 or $\\mathbb{R}^2$. But if the span of the linear combination of vectors are seen to be like a line, they are said to be linearly dependent and they have a rank of 1 or $\\mathbb{R}^1$."
   ]
  },
  {
   "cell_type": "markdown",
   "metadata": {},
   "source": [
    "# Activity"
   ]
  },
  {
   "cell_type": "markdown",
   "metadata": {},
   "source": [
    "# Task 1\n",
    "\n",
    "\n",
    "Try different linear combinations using different scalar values. In your methodology discuss the different functions that you have used, the linear equation and vector form of the linear combination, and the flowchart for declaring and displaying linear combinations. Please make sure that your flowchart has only few words and not putting the entire code as it is bad practice. In your results, display and discuss the linear combination visualization you made. You should use the cells below for displaying the equation markdows using LaTeX and your code.\n",
    "\n"
   ]
  },
  {
   "cell_type": "markdown",
   "metadata": {},
   "source": [
    "$$General  Linear  Equation  Form$$$$\n",
    "v_1 = c_1 (9x + 12y) \\\\ \n",
    "v_2 = c_2 (-9x +  12y) \\\\  \n",
    "$$\n"
   ]
  },
  {
   "cell_type": "markdown",
   "metadata": {},
   "source": [
    "$$Vector Form$$$$\n",
    "V_1 = c_1\\cdot \\begin{bmatrix} 9\\\\12 \\\\\\end{bmatrix} , \n",
    "V_2 = c_2\\cdot \\begin{bmatrix} -9\\\\12 \\\\\\end{bmatrix} \n",
    "$$\n"
   ]
  },
  {
   "cell_type": "code",
   "execution_count": 36,
   "metadata": {},
   "outputs": [
    {
     "data": {
      "image/png": "[encoded data removed]",
      "text/plain": [
       "<Figure size 432x288 with 1 Axes>"
      ]
     },
     "metadata": {
      "needs_background": "light"
     },
     "output_type": "display_data"
    }
   ],
   "source": [
    "# unit vectors\n",
    "vect1 = np.array([9,12])\n",
    "vect2 = np.array([-9,12])\n",
    "\n",
    "# range\n",
    "c1 = np.arange(-10,11,1)\n",
    "c2 = np.arange(0,11,1)\n",
    "\n",
    "# multiplying the range to the unit vectors\n",
    "# linear combination\n",
    "plt.scatter(c1*vect1[0],c1*vect1[1], color = 'black')\n",
    "plt.scatter(c2*vect2[0],c2*vect2[1], color = 'pink')\n",
    "\n",
    "# lines across the origin with the color as black\n",
    "plt.axhline(y=0, color='black')\n",
    "plt.axvline(x=0, color='black')\n",
    "\n",
    "\n",
    "plt.grid()#configures the grid lines\n",
    "\n",
    "\n",
    "plt.show()#displays all the figures "
   ]
  },
  {
   "cell_type": "markdown",
   "metadata": {},
   "source": [
    "# Task 2"
   ]
  },
  {
   "cell_type": "markdown",
   "metadata": {},
   "source": [
    "Try making three unque spans using different linear combinations . In your methodology discuss the different functions that you have used, the linear equations and vector form of span, and the flowchart for declaring and displaying span. Please make sure that your flowchart has only few words and not putting the entire code as it is bad practice. In your results, display and discuss the span visualization you made. You should use the cells below for displaying the equation markdows using LaTeX and your code."
   ]
  },
  {
   "cell_type": "markdown",
   "metadata": {},
   "source": [
    "$$General  Linear  Equation  Form$$$$\n",
    "A = c_1 (-2x + 2y) \\\\ \n",
    "B= c_2 (8x + 8y)\n",
    "$$\n"
   ]
  },
  {
   "cell_type": "markdown",
   "metadata": {},
   "source": [
    "$$Vector Form$$$$\n",
    "S = \n",
    "\\begin{Bmatrix} \n",
    "c_1 \\cdot\n",
    "\\begin{bmatrix} -2\\\\2 \\\\\\end{bmatrix}, \n",
    "c_2 \\cdot \n",
    "\\begin{bmatrix} 8\\\\8 \\\\\\end{bmatrix}\n",
    "\\end{Bmatrix}\n",
    "$$\n"
   ]
  },
  {
   "cell_type": "code",
   "execution_count": 35,
   "metadata": {},
   "outputs": [
    {
     "data": {
      "image/png": "[encoded data removed]",
      "text/plain": [
       "<Figure size 432x288 with 1 Axes>"
      ]
     },
     "metadata": {
      "needs_background": "light"
     },
     "output_type": "display_data"
    }
   ],
   "source": [
    "# unit vectors\n",
    "vectA = np.array([-2,2])\n",
    "vectB = np.array([8,8])\n",
    "\n",
    "# range\n",
    "R = np.arange(-10,11)\n",
    "\n",
    "# creates a range of 2d values of R and R\n",
    "# coordinate matrices from coordinate vectors\n",
    "c1, c2 = np.meshgrid(R,R)\n",
    "\n",
    "#span\n",
    "spanRx = c1*vectA[0] + c2*vectB[0]\n",
    "spanRy = c1*vectA[1] + c2*vectB[1]\n",
    "plt.scatter(spanRx,spanRy, s=40, alpha=0.75, color = 'red')\n",
    "\n",
    "# lines across the origin with the color as black\n",
    "plt.axhline(y=0, color='black')\n",
    "plt.axvline(x=0, color='black')\n",
    "\n",
    "\n",
    "plt.grid() #configures grid lines\n",
    "\n",
    "\n",
    "plt.show() #displays all figures "
   ]
  },
  {
   "cell_type": "markdown",
   "metadata": {},
   "source": [
    "$$General  Linear  Equation  Form$$$$\n",
    "A = c_1 (3x + 2y) \\\\ \n",
    "B= c_2 (2x + 3y)\n",
    "$$"
   ]
  },
  {
   "cell_type": "markdown",
   "metadata": {},
   "source": [
    "$$Vector Form$$$$\n",
    "S = \n",
    "\\begin{Bmatrix} \n",
    "c_1 \\cdot\n",
    "\\begin{bmatrix} 3\\\\2 \\\\\\end{bmatrix}, \n",
    "c_2 \\cdot \n",
    "\\begin{bmatrix} 2\\\\3 \\\\\\end{bmatrix}\n",
    "\\end{Bmatrix}\n",
    "$$\n"
   ]
  },
  {
   "cell_type": "code",
   "execution_count": 38,
   "metadata": {},
   "outputs": [
    {
     "data": {
      "image/png": "[encoded data removed]",
      "text/plain": [
       "<Figure size 432x288 with 1 Axes>"
      ]
     },
     "metadata": {
      "needs_background": "light"
     },
     "output_type": "display_data"
    }
   ],
   "source": [
    "# unit vectors\n",
    "vectA = np.array([3,2])\n",
    "vectB = np.array([2,3])\n",
    "\n",
    "# range\n",
    "R = np.arange(-10,11)\n",
    "\n",
    "# creates a range of 2d values of R and R\n",
    "# coordinate matrices from coordinate vectors\n",
    "c1, c2 = np.meshgrid(R,R)\n",
    "\n",
    "\n",
    "#span\n",
    "spanRx = c1*vectA[0] + c2*vectB[0]\n",
    "spanRy = c1*vectA[1] + c2*vectB[1]\n",
    "plt.scatter(spanRx,spanRy, s=40, alpha=0.75, color = 'blue')\n",
    "\n",
    "# lines across the origin with the color as black\n",
    "plt.axhline(y=0, color='black')\n",
    "plt.axvline(x=0, color='black')\n",
    "\n",
    "#configures grid lines\n",
    "plt.grid()\n",
    "\n",
    "#displays all figures \n",
    "plt.show()"
   ]
  },
  {
   "cell_type": "markdown",
   "metadata": {},
   "source": [
    "$$General  Linear  Equation  Form$$$$\n",
    "A = c_1 (2x + 6y) \\\\ \n",
    "B= c_2 (9x + 12y)\n",
    "$$"
   ]
  },
  {
   "cell_type": "markdown",
   "metadata": {},
   "source": [
    "$$Vector Form$$$$\n",
    "S = \n",
    "\\begin{Bmatrix} \n",
    "c_1 \\cdot\n",
    "\\begin{bmatrix} 2\\\\6 \\\\\\end{bmatrix}, \n",
    "c_2 \\cdot \n",
    "\\begin{bmatrix} 9\\\\12 \\\\\\end{bmatrix}\n",
    "\\end{Bmatrix}\n",
    "$$\n"
   ]
  },
  {
   "cell_type": "code",
   "execution_count": 42,
   "metadata": {
    "scrolled": true
   },
   "outputs": [
    {
     "data": {
      "image/png": "[encoded data removed]",
      "text/plain": [
       "<Figure size 432x288 with 1 Axes>"
      ]
     },
     "metadata": {
      "needs_background": "light"
     },
     "output_type": "display_data"
    }
   ],
   "source": [
    "# unit vectors\n",
    "vectA = np.array([2,6])\n",
    "vectB = np.array([9,12])\n",
    "\n",
    "# range\n",
    "R = np.arange(-10,11,2)\n",
    "\n",
    "# creates a range of 2d values of R and R\n",
    "# coordinate matrices from coordinate vectors\n",
    "c1, c2 = np.meshgrid(R,R)\n",
    "\n",
    "#span\n",
    "spanRx = c1*vectA[0] + c2*vectB[0]\n",
    "spanRy = c1*vectA[1] + c2*vectB[1]\n",
    "plt.scatter(spanRx,spanRy, s=40, alpha=0.75, color = 'yellow')\n",
    "\n",
    "# lines across the origin with the color as black\n",
    "plt.axhline(y=0, color='black')\n",
    "plt.axvline(x=0, color='black')\n",
    "\n",
    "#configures grid lines\n",
    "plt.grid()\n",
    "\n",
    "#displays all figures \n",
    "plt.show()\n"
   ]
  },
  {
   "cell_type": "markdown",
   "metadata": {},
   "source": [
    "# Discussion Questions\n"
   ]
  },
  {
   "cell_type": "markdown",
   "metadata": {},
   "source": [
    "Append your discussion at the end of the results section of your report just before your conclusion. Try to answer the following questions. Do not forget to cite your sources.\n",
    "\n",
    "1.You might have notices that the dimensions plot of linear combinations change according to its rank. If a vector is $\\mathbb{R}=1$ the plot of its linear combination is one-dimensional or a line, and if $\\mathbb{R}=2$ the plot is a plane. What will be the shape of the vector visualization if $\\mathbb{R} = 3$ and if $\\mathbb{R} = 4$?\n",
    "\n",
    "2.Kindly discuss the role of unit vectors in relation to liner combinations."
   ]
  },
  {
   "cell_type": "markdown",
   "metadata": {},
   "source": [
    "# Conclusion guide"
   ]
  },
  {
   "cell_type": "markdown",
   "metadata": {},
   "source": [
    "For your conclusion synthesize the concept and application of the laboratory. Briefly discuss what you have learn and achieved in this activity. At the end of your conclusion try to answer the question : \"How can you apply the concept of linear combination in engineeing or real-life situations?\"."
   ]
  }
 ],
 "metadata": {
  "kernelspec": {
   "display_name": "Python 3",
   "language": "python",
   "name": "python3"
  },
  "language_info": {
   "codemirror_mode": {
    "name": "ipython",
    "version": 3
   },
   "file_extension": ".py",
   "mimetype": "text/x-python",
   "name": "python",
   "nbconvert_exporter": "python",
   "pygments_lexer": "ipython3",
   "version": "3.8.3"
  }
 },
 "nbformat": 4,
 "nbformat_minor": 4
}
